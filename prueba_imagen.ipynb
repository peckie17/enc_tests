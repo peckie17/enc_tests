{
 "cells": [
  {
   "cell_type": "markdown",
   "metadata": {},
   "source": [
    "## Leer imagen"
   ]
  },
  {
   "cell_type": "code",
   "execution_count": 1,
   "metadata": {},
   "outputs": [],
   "source": [
    "import matplotlib.image as mpimg\n",
    "import matplotlib.pyplot as plt\n",
    "import numpy as np\n",
    "from PIL import Image\n",
    "import math\n",
    "from collections import Counter"
   ]
  },
  {
   "cell_type": "code",
   "execution_count": 75,
   "metadata": {},
   "outputs": [
    {
     "data": {
      "text/plain": [
       "<matplotlib.image.AxesImage at 0x1e6fedc0d00>"
      ]
     },
     "execution_count": 75,
     "metadata": {},
     "output_type": "execute_result"
    },
    {
     "data": {
      "image/png": "[encoded data removed]",
      "text/plain": [
       "<Figure size 432x288 with 1 Axes>"
      ]
     },
     "metadata": {
      "needs_background": "light"
     },
     "output_type": "display_data"
    }
   ],
   "source": [
    "img = mpimg.imread(\"D:\\SS\\codigos\\img\\colores.bmp\")\n",
    "plt.imshow(img)"
   ]
  },
  {
   "cell_type": "markdown",
   "metadata": {},
   "source": [
    "# UACI"
   ]
  },
  {
   "cell_type": "code",
   "execution_count": 182,
   "metadata": {},
   "outputs": [],
   "source": [
    "img1 = mpimg.imread(\"D:\\SS\\codigos\\img\\house.bmp\")\n",
    "img2 = mpimg.imread(\"D:\\SS\\codigos\\img\\house_enc_ecb.bmp\")\n",
    "img1_r = img1[:,:,0]\n",
    "img2_r = img2[:,:,0]"
   ]
  },
  {
   "cell_type": "code",
   "execution_count": 183,
   "metadata": {},
   "outputs": [],
   "source": [
    "img1_r=img1_r.astype(float)\n",
    "img2_r=img2_r.astype(float)"
   ]
  },
  {
   "cell_type": "code",
   "execution_count": 5,
   "metadata": {},
   "outputs": [
    {
     "data": {
      "text/plain": [
       "numpy.ndarray"
      ]
     },
     "execution_count": 5,
     "metadata": {},
     "output_type": "execute_result"
    }
   ],
   "source": [
    "type(img1_r)"
   ]
  },
  {
   "cell_type": "code",
   "execution_count": 6,
   "metadata": {},
   "outputs": [],
   "source": [
    "#para un canal\n",
    "#tienen que estar en enteros, si no sale otra cosa\n",
    "def uaci(img1, img2):\n",
    "    h,b=img1.shape\n",
    "    return ( sum( sum(np.absolute(img1-img2)/255) ) )/(h*b)*100\n"
   ]
  },
  {
   "cell_type": "code",
   "execution_count": 7,
   "metadata": {},
   "outputs": [],
   "source": [
    "def npcr(img1,img2):\n",
    "    h,b=img1.shape\n",
    "    return sum( sum( img1!=img2 ) )/( h * b )*100"
   ]
  },
  {
   "cell_type": "code",
   "execution_count": 8,
   "metadata": {},
   "outputs": [
    {
     "name": "stdout",
     "output_type": "stream",
     "text": [
      "30.303986493278956\n"
     ]
    }
   ],
   "source": [
    "u=uaci(img1_r, img2_r)\n",
    "print(u)"
   ]
  },
  {
   "cell_type": "code",
   "execution_count": 9,
   "metadata": {},
   "outputs": [
    {
     "name": "stdout",
     "output_type": "stream",
     "text": [
      "99.61051940917969\n"
     ]
    }
   ],
   "source": [
    "n=npcr(img1_r, img2_r)\n",
    "print(n)"
   ]
  },
  {
   "cell_type": "markdown",
   "metadata": {},
   "source": [
    "## Correlation coefficient\n",
    "- hay que seleccionar k pares de pixeles adjuntos\n",
    "    - primero voy a seleccionar k pares x,y como corrdenadas de pixeles\n",
    "    - Después a esas coordenadas le sumo 1 para obtener el pixel adyacente\n",
    "        - x+1,y para horizontal\n",
    "        - x,y+1 para vertical\n",
    "        - x+1,y+1 para diagonal +\n",
    "        - x+1,y-1 para diagonal -"
   ]
  },
  {
   "cell_type": "code",
   "execution_count": 10,
   "metadata": {},
   "outputs": [],
   "source": [
    "def correlacion(img1,n_puntos):\n",
    "    #primero seleccionamos los k puntos, por ahora lo hare para horizontal\n",
    "    h, b = img1.shape\n",
    "    x = np.random.choice(b-1,n_puntos,replace=True)\n",
    "    y = np.random.choice(h-1,n_puntos,replace=True)\n",
    "\n",
    "    #print(x)\n",
    "    #print(y)\n",
    "    x2=x+1  #para horizontal\n",
    "\n",
    "    #ahora tengo que seleccionar los puntos según  las coordenadas que ya hice\n",
    "    px1 = img1[x,y]\n",
    "    px2 = img1[x2,y]\n",
    "\n",
    "    #calculando los promedios\n",
    "    px1m = np.mean(px1)\n",
    "    px2m = np.mean(px2)\n",
    "\n",
    "    #las restas px - px_mean \n",
    "    ppm1 = px1 - px1m\n",
    "    ppm2 = px2 - px2m\n",
    "\n",
    "    D1 = sum( ppm1**2 )\n",
    "    D2 = sum( ppm2**2 )\n",
    "\n",
    "    cc = sum( ppm1*ppm2 ) / np.sqrt( D1*D2 )\n",
    "\n",
    "    return cc\n",
    "    "
   ]
  },
  {
   "cell_type": "code",
   "execution_count": 11,
   "metadata": {},
   "outputs": [
    {
     "data": {
      "text/plain": [
       "array([[1.        , 0.07762583],\n",
       "       [0.07762583, 1.        ]])"
      ]
     },
     "execution_count": 11,
     "metadata": {},
     "output_type": "execute_result"
    }
   ],
   "source": [
    "n=1000\n",
    "x = np.random.choice(25-1,n,replace=True)\n",
    "y = np.random.choice(25-1,n,replace=True)\n",
    "cc=np.corrcoef(img2_r[x,y],img2_r[x+1,y])\n",
    "cc"
   ]
  },
  {
   "cell_type": "code",
   "execution_count": 12,
   "metadata": {},
   "outputs": [
    {
     "data": {
      "text/plain": [
       "0.003028371107329196"
      ]
     },
     "execution_count": 12,
     "metadata": {},
     "output_type": "execute_result"
    }
   ],
   "source": [
    "q=correlacion(img2_r,1000)\n",
    "q"
   ]
  },
  {
   "cell_type": "code",
   "execution_count": 13,
   "metadata": {},
   "outputs": [
    {
     "data": {
      "text/plain": [
       "(512, 512)"
      ]
     },
     "execution_count": 13,
     "metadata": {},
     "output_type": "execute_result"
    }
   ],
   "source": [
    "img2_r.shape"
   ]
  },
  {
   "cell_type": "markdown",
   "metadata": {},
   "source": [
    "## MSE y PSNR\n"
   ]
  },
  {
   "cell_type": "code",
   "execution_count": 14,
   "metadata": {},
   "outputs": [],
   "source": [
    "def mean_squared_error(img1, img2):\n",
    "    h, b = img1.shape\n",
    "    return sum( sum( ( img1 - img2 )**2 ) ) / ( h * b )"
   ]
  },
  {
   "cell_type": "code",
   "execution_count": 15,
   "metadata": {},
   "outputs": [],
   "source": [
    "def psnr(img1, img2):\n",
    "    mse = mean_squared_error(img1, img2)\n",
    "    return 20 * math.log10( 255 / (math.sqrt(mse)) )"
   ]
  },
  {
   "cell_type": "markdown",
   "metadata": {},
   "source": [
    "## Histograma"
   ]
  },
  {
   "cell_type": "code",
   "execution_count": 78,
   "metadata": {},
   "outputs": [],
   "source": [
    "def histograma(img1, print = False):\n",
    "    #asumiendo que el max es 255\n",
    "    #partiendo en 256 bins, hay que poner 1 bin de más\n",
    "    #density para que me entregue la probabilidad de ese valor\n",
    "        #eso también me sirve para la probabilidad de entropía\n",
    "    hist, bins = np.histogram(np.ravel(img1), bins = range(257), density=True)\n",
    "\n",
    "    if(print):\n",
    "        plt.bar(bins[:256], hist, align = 'center')\n",
    "        plt.title('Histograma') \n",
    "        plt.ylabel('Probabilidad') \n",
    "        plt.xlabel('Bins')  \n",
    "\n",
    "        plt.show()\n",
    "\n",
    "    return hist, bins"
   ]
  },
  {
   "cell_type": "code",
   "execution_count": 79,
   "metadata": {},
   "outputs": [
    {
     "data": {
      "image/png": "[encoded data removed]",
      "text/plain": [
       "<Figure size 432x288 with 1 Axes>"
      ]
     },
     "metadata": {
      "needs_background": "light"
     },
     "output_type": "display_data"
    }
   ],
   "source": [
    "histograma(img1_r)"
   ]
  },
  {
   "cell_type": "markdown",
   "metadata": {},
   "source": [
    "## Entropia Global\n",
    "Para hacer lo de la entropía local, seguramente tmb sería akgo así pero por bloques"
   ]
  },
  {
   "cell_type": "code",
   "execution_count": 204,
   "metadata": {},
   "outputs": [],
   "source": [
    "#usare lo mismo que el histograma ya que ya me da la probailidad\n",
    "#tmb se podría usar counter, pero tiene un diccionario, aun asi podría solo extraer los valores\n",
    "def entropia(img1):\n",
    "    #se supone que esto ya me da la probabilidad de cada intensidad de pixel(0...255)\n",
    "        #pero eso me da probabilidades de 0, y a cero no se le puede sacara log\n",
    "            #podria usar un filter, pero...\n",
    "    #hay 256 valores diferentes\n",
    "    #usar count es mucho más rápido que calcular los valores distintos y calcular las ocurrencias\n",
    "    n = img1.shape[0] * img1.shape[1]\n",
    "    dist = Counter(img1.ravel())\n",
    "    prob = np.array(list(dist.values())) / n\n",
    "    #prob es una lista con las probabilidades\n",
    "    # usar * lo hace element wise, no multiplicación de vectores\n",
    "    #print(prob)\n",
    "    return sum( prob * np.log2(1.0 / prob) )\n"
   ]
  },
  {
   "cell_type": "code",
   "execution_count": 206,
   "metadata": {},
   "outputs": [
    {
     "data": {
      "text/plain": [
       "7.999250230344181"
      ]
     },
     "execution_count": 206,
     "metadata": {},
     "output_type": "execute_result"
    }
   ],
   "source": [
    "entropia(img2_r)"
   ]
  },
  {
   "cell_type": "code",
   "execution_count": 98,
   "metadata": {},
   "outputs": [
    {
     "data": {
      "text/plain": [
       "array([ 0,  1,  4,  9, 16])"
      ]
     },
     "execution_count": 98,
     "metadata": {},
     "output_type": "execute_result"
    }
   ],
   "source": [
    "z=np.array(range(5))\n",
    "y=np.array(range(5))\n",
    "z*z"
   ]
  },
  {
   "cell_type": "code",
   "execution_count": 200,
   "metadata": {},
   "outputs": [
    {
     "name": "stdout",
     "output_type": "stream",
     "text": [
      "Downloaded the tutorial in 0.0754 seconds\n"
     ]
    }
   ],
   "source": [
    "tic = time.perf_counter()\n",
    "n=img1_r.shape[0]*img1_r.shape[1]\n",
    "cl = Counter(img1_r.ravel())\n",
    "p=np.array(list(cl.values()))/n\n",
    "toc = time.perf_counter()\n",
    "print(f\"Downloaded the tutorial in {toc - tic:0.4f} seconds\")"
   ]
  },
  {
   "cell_type": "code",
   "execution_count": 138,
   "metadata": {},
   "outputs": [
    {
     "data": {
      "text/plain": [
       "1.0"
      ]
     },
     "execution_count": 138,
     "metadata": {},
     "output_type": "execute_result"
    }
   ],
   "source": [
    "sum(p)"
   ]
  },
  {
   "cell_type": "code",
   "execution_count": 130,
   "metadata": {},
   "outputs": [
    {
     "data": {
      "text/plain": [
       "[86, 473, 60, 6]"
      ]
     },
     "execution_count": 130,
     "metadata": {},
     "output_type": "execute_result"
    }
   ],
   "source": [
    "list(dict(cl).values())"
   ]
  },
  {
   "cell_type": "code",
   "execution_count": 193,
   "metadata": {},
   "outputs": [
    {
     "name": "stdout",
     "output_type": "stream",
     "text": [
      "Downloaded the tutorial in 0.1123 seconds\n"
     ]
    }
   ],
   "source": [
    "tic = time.perf_counter()\n",
    "n=img1_r.shape[0]*img1_r.shape[1]\n",
    "vals=set(img1_r.ravel())\n",
    "qq =np.array( [np.count_nonzero(img1_r == v) for v in vals]  ) / n\n",
    "toc = time.perf_counter()\n",
    "print(f\"Downloaded the tutorial in {toc - tic:0.4f} seconds\")"
   ]
  },
  {
   "cell_type": "code",
   "execution_count": 148,
   "metadata": {},
   "outputs": [
    {
     "data": {
      "text/plain": [
       "array([0.7568, 0.0096, 0.096 , 0.1376])"
      ]
     },
     "execution_count": 148,
     "metadata": {},
     "output_type": "execute_result"
    }
   ],
   "source": [
    "qq"
   ]
  },
  {
   "cell_type": "code",
   "execution_count": 150,
   "metadata": {},
   "outputs": [],
   "source": [
    "import time\n"
   ]
  }
 ],
 "metadata": {
  "interpreter": {
   "hash": "07efdcd4b820c98a756949507a4d29d7862823915ec7477944641bea022f4f62"
  },
  "kernelspec": {
   "display_name": "Python 3.9.7 ('base')",
   "language": "python",
   "name": "python3"
  },
  "language_info": {
   "codemirror_mode": {
    "name": "ipython",
    "version": 3
   },
   "file_extension": ".py",
   "mimetype": "text/x-python",
   "name": "python",
   "nbconvert_exporter": "python",
   "pygments_lexer": "ipython3",
   "version": "3.9.7"
  },
  "orig_nbformat": 4
 },
 "nbformat": 4,
 "nbformat_minor": 2
}
